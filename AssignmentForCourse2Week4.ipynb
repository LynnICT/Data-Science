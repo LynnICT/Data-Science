{
  "nbformat": 4,
  "nbformat_minor": 0,
  "metadata": {
    "colab": {
      "name": "AssignmentForCourse2Week4.ipynb",
      "provenance": [],
      "collapsed_sections": [],
      "authorship_tag": "ABX9TyO3XbHcqtjuDjLsvEFJDy79",
      "include_colab_link": true
    },
    "kernelspec": {
      "name": "python3",
      "display_name": "Python 3"
    },
    "language_info": {
      "name": "python"
    }
  },
  "cells": [
    {
      "cell_type": "markdown",
      "metadata": {
        "id": "view-in-github",
        "colab_type": "text"
      },
      "source": [
        "<a href=\"https://colab.research.google.com/github/LynnICT/Data-Science/blob/main/AssignmentForCourse2Week4.ipynb\" target=\"_parent\"><img src=\"https://colab.research.google.com/assets/colab-badge.svg\" alt=\"Open In Colab\"/></a>"
      ]
    },
    {
      "cell_type": "code",
      "execution_count": 1,
      "metadata": {
        "colab": {
          "base_uri": "https://localhost:8080/"
        },
        "id": "kr7tRiBLBJoS",
        "outputId": "fccf2f1f-0d70-4836-c8cd-a8c530590444"
      },
      "outputs": [
        {
          "output_type": "execute_result",
          "data": {
            "text/plain": [
              "True"
            ]
          },
          "metadata": {},
          "execution_count": 1
        }
      ],
      "source": [
        "def gauss(n):\n",
        "  return (n*(n+1))/2\n",
        "\n",
        "gauss(100) == sum(range(101))"
      ]
    },
    {
      "cell_type": "code",
      "source": [
        "# My Jupyter Notebook on IBM Watson Studio"
      ],
      "metadata": {
        "id": "Ltg4LYw5gyJP"
      },
      "execution_count": null,
      "outputs": []
    },
    {
      "cell_type": "code",
      "source": [
        ""
      ],
      "metadata": {
        "id": "VNYUSgdD6A-O"
      },
      "execution_count": null,
      "outputs": []
    },
    {
      "cell_type": "markdown",
      "source": [
        "# My Jupyter Notebook on IBM Watson Studio"
      ],
      "metadata": {
        "id": "gROoDfsT6BV-"
      }
    },
    {
      "cell_type": "markdown",
      "source": [
        "**Xiaolin Ma** \n",
        "\n",
        "Data Scientist"
      ],
      "metadata": {
        "id": "HcLpacoR6CXG"
      }
    },
    {
      "cell_type": "markdown",
      "source": [
        "*I am interested in data science because I want to use it to analyze the research data collected and to provide better solutions for my clients.*"
      ],
      "metadata": {
        "id": "DaEP_nYA6F0d"
      }
    },
    {
      "cell_type": "markdown",
      "source": [
        "### The result of one plus one can be displayed as follows."
      ],
      "metadata": {
        "id": "Ct-v7kDe6I3V"
      }
    },
    {
      "cell_type": "code",
      "source": [
        "print(\"1 + 1 =\", 1+1)"
      ],
      "metadata": {
        "colab": {
          "base_uri": "https://localhost:8080/"
        },
        "id": "I8C3V04jgySe",
        "outputId": "a7487d16-2395-4f88-88af-eae9b120e1a2"
      },
      "execution_count": 2,
      "outputs": [
        {
          "output_type": "stream",
          "name": "stdout",
          "text": [
            "1 + 1 = 2\n"
          ]
        }
      ]
    },
    {
      "cell_type": "markdown",
      "source": [
        "#### `1.horizontal rule`\n",
        "---\n",
        "\n",
        "---\n",
        "***\n",
        "___\n",
        "\n",
        "\n",
        "#### `2.bulleted list`\n",
        "___\n",
        "\n",
        "* Course 1\n",
        "* Course 2\n",
        "\n",
        "#### `3.numbered list`\n",
        "___\n",
        "\n",
        "1. Course 3\n",
        "2. Course 4\n",
        "\n",
        "\n",
        "#### `4.Table`\n",
        "___\n",
        "\n",
        "Column A | Column B | Column C\n",
        "--- | --- | --- \n",
        "*Week 4* | ~~course 4~~ | **funny**\n",
        "4 | 4 | 10\n",
        "\n",
        "\n",
        "#### `5.Hyperlinks`\n",
        "___\n",
        "\n",
        "URLs and URLs in angle brackets will automatically get turned into links. \n",
        "https://cloud.ibm.com/ or <https://cloud.ibm.com/> \n",
        "\n",
        "\n",
        "\n",
        "\n",
        "\n",
        "#### `6.Image`\n",
        "___\n",
        "\n",
        "Watson logo:\n",
        "![alt IBM](https://www.ibm.com/blogs/think/wp-content/uploads/2019/10/This-is-Watson-Graphic-2019.jpg)\n",
        "\n",
        "\n",
        "\n",
        "\n",
        "\n",
        "\n",
        "\n",
        "\n",
        "#### `7.code/syntax highlighting`\n",
        "___\n",
        "\n",
        "```normal\n",
        "s = \"normal\"\n",
        "print s\n",
        "```\n",
        "\n",
        "```python\n",
        "s = \"Python syntax highlighting\"\n",
        "print s\n",
        "```\n",
        "```javascript\n",
        "var s = \"JavaScript syntax highlighting\";\n",
        "alert(s);\n",
        "```\n",
        "\n",
        "\n",
        "#### `8.blocked quotes`\n",
        "___\n",
        "\n",
        "> Blockquotes are very handy in email to emulate reply text.\n",
        "> Well, you can *put* **Markdown** into a blockquote. \n",
        "> This line is part of the same quote.\n",
        "\n",
        "\n",
        "#### `9.strikethrough`\n",
        "___\n",
        "\n",
        "~~test for strikethrough~~\n",
        "\n"
      ],
      "metadata": {
        "id": "hYICcAzp6SQO"
      }
    },
    {
      "cell_type": "code",
      "source": [
        ""
      ],
      "metadata": {
        "id": "LEI__tKKgyWV"
      },
      "execution_count": null,
      "outputs": []
    },
    {
      "cell_type": "code",
      "source": [
        ""
      ],
      "metadata": {
        "id": "DgYk3pdngyZd"
      },
      "execution_count": null,
      "outputs": []
    }
  ]
}